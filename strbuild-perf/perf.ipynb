{
 "cells": [
  {
   "cell_type": "markdown",
   "metadata": {},
   "source": [
    "# Performance analysis of string building with Python"
   ]
  },
  {
   "cell_type": "code",
   "execution_count": 32,
   "metadata": {},
   "outputs": [],
   "source": [
    "import random\n",
    "import statistics\n",
    "import string\n",
    "import timeit\n",
    "\n",
    "import pandas as pd\n",
    "import matplotlib.pyplot as plt\n",
    "import numpy as np\n",
    "from scipy.interpolate import interp1d"
   ]
  },
  {
   "cell_type": "markdown",
   "metadata": {},
   "source": [
    "#### Custom CSS"
   ]
  },
  {
   "cell_type": "code",
   "execution_count": 33,
   "metadata": {},
   "outputs": [
    {
     "data": {
      "text/html": [
       "<style>/* title of columns */\n",
       "table.dataframe thead th {\n",
       "    font-size: 1.2em !important;\n",
       "    padding-top: 0.2em !important;\n",
       "    padding-bottom: 0.2em !important;\n",
       "}\n",
       "\n",
       "/* title of rows */\n",
       "table.dataframe tbody th {\n",
       "    font-size: 1.2em !important;\n",
       "    background: rgba(199, 199, 199, 0.356) !important;\n",
       "    border: 1px solid black !important;\n",
       "}\n",
       "\n",
       "/* style for each cell */\n",
       "table.dataframe td {\n",
       "    font-size: 1.15em !important;\n",
       "    border: 1px solid black !important;\n",
       "}\n",
       "\n",
       "/* disable zebra-style */\n",
       "table.dataframe tbody tr {\n",
       "    background: white !important;\n",
       "}\n",
       "\n",
       "/* row color on hover */\n",
       "table.dataframe tbody tr:hover {\n",
       "    background: rgba(43, 137, 226, 0.144) !important;\n",
       "}\n",
       "\n",
       "/* Settings for slides */\n",
       "\n",
       ".present table.dataframe thead th {\n",
       "    font-size: 1.5em !important;\n",
       "}\n",
       "\n",
       ".present table.dataframe tbody th {\n",
       "    font-size: 1.5em !important;\n",
       "}\n",
       "\n",
       ".present table.dataframe td {\n",
       "    font-size: 1.3em !important;\n",
       "}\n",
       "\n",
       ".present table.dataframe thead th {\n",
       "    border-bottom: none !important;\n",
       "    padding-top: 0.1em !important;\n",
       "    padding-bottom: 0.1em !important;\n",
       "}\n",
       "</style>"
      ],
      "text/plain": [
       "<IPython.core.display.HTML object>"
      ]
     },
     "execution_count": 33,
     "metadata": {},
     "output_type": "execute_result"
    }
   ],
   "source": [
    "from IPython.display import HTML\n",
    "from pathlib import Path\n",
    "\n",
    "# load custom CSS for old-fashioned dataframe style\n",
    "css_rules = Path('custom.css').read_text()\n",
    "HTML('<style>' + css_rules + '</style>')"
   ]
  },
  {
   "cell_type": "markdown",
   "metadata": {},
   "source": [
    "## Settings"
   ]
  },
  {
   "cell_type": "code",
   "execution_count": 39,
   "metadata": {},
   "outputs": [],
   "source": [
    "NUM_EXEC_LOOPS = 10000\n",
    "MAX_STRING_SIZE = 100\n",
    "STRING_SIZE_STEP = 10\n",
    "MILISECONDS = 1e3\n",
    "\n",
    "STR_EXPRESSIONS = {\n",
    "    'f-string': \"f'{s} {t}'\",\n",
    "    'concat': \"s + ' ' + t\",\n",
    "    'join': \"''.join((s, t))\",\n",
    "    'modulus': \"'%s %s' % (s, t)\",\n",
    "    'format': \"'{} {}'.format(s, t)\",\n",
    "    'template': \"string.Template('$s $t').substitute(s=s, t=t)\",\n",
    "}"
   ]
  },
  {
   "cell_type": "code",
   "execution_count": 40,
   "metadata": {},
   "outputs": [],
   "source": [
    "def build_random_string(size):\n",
    "    ''' Return a string with <size> randomized chars taken from ASCII letters'''\n",
    "    return ''.join([random.choice(string.ascii_letters) for _ in range(size)])"
   ]
  },
  {
   "cell_type": "markdown",
   "metadata": {},
   "source": [
    "## Data generation"
   ]
  },
  {
   "cell_type": "code",
   "execution_count": 55,
   "metadata": {},
   "outputs": [],
   "source": [
    "data = []\n",
    "string_size_range = range(0, MAX_STRING_SIZE + 1, STRING_SIZE_STEP)\n",
    "for size in string_size_range:\n",
    "    s = build_random_string(size)\n",
    "    t = build_random_string(size)\n",
    "\n",
    "    results = []\n",
    "    for label, expr in STR_EXPRESSIONS.items():\n",
    "        execution_times = timeit.repeat(f'r = {expr}', globals=globals(), number=NUM_EXEC_LOOPS)\n",
    "        mean_execution_time = statistics.mean(execution_times) * MILISECONDS\n",
    "        results.append(mean_execution_time)\n",
    "    data.append(results)"
   ]
  },
  {
   "cell_type": "markdown",
   "metadata": {},
   "source": [
    "#### Dataframe creation"
   ]
  },
  {
   "cell_type": "code",
   "execution_count": 56,
   "metadata": {},
   "outputs": [
    {
     "data": {
      "text/html": [
       "<div>\n",
       "<style scoped>\n",
       "    .dataframe tbody tr th:only-of-type {\n",
       "        vertical-align: middle;\n",
       "    }\n",
       "\n",
       "    .dataframe tbody tr th {\n",
       "        vertical-align: top;\n",
       "    }\n",
       "\n",
       "    .dataframe thead th {\n",
       "        text-align: right;\n",
       "    }\n",
       "</style>\n",
       "<table border=\"1\" class=\"dataframe\">\n",
       "  <thead>\n",
       "    <tr style=\"text-align: right;\">\n",
       "      <th></th>\n",
       "      <th>f-string</th>\n",
       "      <th>concat</th>\n",
       "      <th>join</th>\n",
       "      <th>modulus</th>\n",
       "      <th>format</th>\n",
       "      <th>template</th>\n",
       "    </tr>\n",
       "  </thead>\n",
       "  <tbody>\n",
       "    <tr>\n",
       "      <th>0</th>\n",
       "      <td>1.551347</td>\n",
       "      <td>0.763269</td>\n",
       "      <td>1.563590</td>\n",
       "      <td>2.310731</td>\n",
       "      <td>3.303814</td>\n",
       "      <td>26.739637</td>\n",
       "    </tr>\n",
       "    <tr>\n",
       "      <th>10</th>\n",
       "      <td>1.094821</td>\n",
       "      <td>1.523566</td>\n",
       "      <td>1.705380</td>\n",
       "      <td>2.354047</td>\n",
       "      <td>3.418319</td>\n",
       "      <td>26.363795</td>\n",
       "    </tr>\n",
       "    <tr>\n",
       "      <th>20</th>\n",
       "      <td>1.089958</td>\n",
       "      <td>1.604446</td>\n",
       "      <td>1.814832</td>\n",
       "      <td>2.469088</td>\n",
       "      <td>3.562932</td>\n",
       "      <td>26.023307</td>\n",
       "    </tr>\n",
       "    <tr>\n",
       "      <th>30</th>\n",
       "      <td>1.101319</td>\n",
       "      <td>1.499564</td>\n",
       "      <td>1.691017</td>\n",
       "      <td>2.387098</td>\n",
       "      <td>3.430304</td>\n",
       "      <td>25.881604</td>\n",
       "    </tr>\n",
       "    <tr>\n",
       "      <th>40</th>\n",
       "      <td>1.116216</td>\n",
       "      <td>1.614920</td>\n",
       "      <td>1.830469</td>\n",
       "      <td>2.239271</td>\n",
       "      <td>3.298186</td>\n",
       "      <td>26.111271</td>\n",
       "    </tr>\n",
       "    <tr>\n",
       "      <th>50</th>\n",
       "      <td>1.122690</td>\n",
       "      <td>1.557970</td>\n",
       "      <td>1.715332</td>\n",
       "      <td>2.233320</td>\n",
       "      <td>3.311006</td>\n",
       "      <td>26.234807</td>\n",
       "    </tr>\n",
       "    <tr>\n",
       "      <th>60</th>\n",
       "      <td>1.103702</td>\n",
       "      <td>1.605938</td>\n",
       "      <td>1.805613</td>\n",
       "      <td>2.505218</td>\n",
       "      <td>3.627207</td>\n",
       "      <td>27.295736</td>\n",
       "    </tr>\n",
       "    <tr>\n",
       "      <th>70</th>\n",
       "      <td>1.129055</td>\n",
       "      <td>1.526609</td>\n",
       "      <td>1.709141</td>\n",
       "      <td>2.454844</td>\n",
       "      <td>3.533063</td>\n",
       "      <td>26.263642</td>\n",
       "    </tr>\n",
       "    <tr>\n",
       "      <th>80</th>\n",
       "      <td>1.118596</td>\n",
       "      <td>1.525626</td>\n",
       "      <td>2.065881</td>\n",
       "      <td>2.439323</td>\n",
       "      <td>3.549587</td>\n",
       "      <td>25.957036</td>\n",
       "    </tr>\n",
       "    <tr>\n",
       "      <th>90</th>\n",
       "      <td>1.270414</td>\n",
       "      <td>1.531847</td>\n",
       "      <td>1.713802</td>\n",
       "      <td>2.467834</td>\n",
       "      <td>3.547114</td>\n",
       "      <td>26.003031</td>\n",
       "    </tr>\n",
       "    <tr>\n",
       "      <th>100</th>\n",
       "      <td>1.343537</td>\n",
       "      <td>1.524684</td>\n",
       "      <td>1.954751</td>\n",
       "      <td>2.509644</td>\n",
       "      <td>3.544446</td>\n",
       "      <td>26.277824</td>\n",
       "    </tr>\n",
       "  </tbody>\n",
       "</table>\n",
       "</div>"
      ],
      "text/plain": [
       "     f-string    concat      join   modulus    format   template\n",
       "0    1.551347  0.763269  1.563590  2.310731  3.303814  26.739637\n",
       "10   1.094821  1.523566  1.705380  2.354047  3.418319  26.363795\n",
       "20   1.089958  1.604446  1.814832  2.469088  3.562932  26.023307\n",
       "30   1.101319  1.499564  1.691017  2.387098  3.430304  25.881604\n",
       "40   1.116216  1.614920  1.830469  2.239271  3.298186  26.111271\n",
       "50   1.122690  1.557970  1.715332  2.233320  3.311006  26.234807\n",
       "60   1.103702  1.605938  1.805613  2.505218  3.627207  27.295736\n",
       "70   1.129055  1.526609  1.709141  2.454844  3.533063  26.263642\n",
       "80   1.118596  1.525626  2.065881  2.439323  3.549587  25.957036\n",
       "90   1.270414  1.531847  1.713802  2.467834  3.547114  26.003031\n",
       "100  1.343537  1.524684  1.954751  2.509644  3.544446  26.277824"
      ]
     },
     "execution_count": 56,
     "metadata": {},
     "output_type": "execute_result"
    }
   ],
   "source": [
    "df = pd.DataFrame(data, columns=STR_EXPRESSIONS.keys(), index=string_size_range)\n",
    "df"
   ]
  },
  {
   "cell_type": "markdown",
   "metadata": {},
   "source": [
    "## \"Smooth\" data with cubic interpolation"
   ]
  },
  {
   "cell_type": "code",
   "execution_count": 57,
   "metadata": {},
   "outputs": [],
   "source": [
    "new_index = np.arange(0, df.index.max() + 1)\n",
    "df_cubic = pd.DataFrame(index=new_index)\n",
    "for column in df.columns:\n",
    "    f = interp1d(df.index, df[column], kind='cubic')\n",
    "    df_cubic[column] = f(df_cubic.index)"
   ]
  },
  {
   "cell_type": "markdown",
   "metadata": {},
   "source": [
    "## Plot data"
   ]
  },
  {
   "cell_type": "code",
   "execution_count": 58,
   "metadata": {},
   "outputs": [
    {
     "data": {
      "image/png": "[encoded data removed]",
      "text/plain": [
       "<Figure size 864x504 with 1 Axes>"
      ]
     },
     "metadata": {
      "needs_background": "light"
     },
     "output_type": "display_data"
    }
   ],
   "source": [
    "ax = df_cubic.plot(\n",
    "    figsize=(12, 7),\n",
    "    grid=True,\n",
    "    xticks=df.index,\n",
    "    title='Performance analysis of string building with Python'\n",
    ")\n",
    "ax.set_xlabel('string size (chars)')\n",
    "ax.set_ylabel('execution time (ms)');"
   ]
  },
  {
   "cell_type": "code",
   "execution_count": null,
   "metadata": {},
   "outputs": [],
   "source": []
  }
 ],
 "metadata": {
  "kernelspec": {
   "display_name": "Python 3",
   "language": "python",
   "name": "python3"
  },
  "language_info": {
   "codemirror_mode": {
    "name": "ipython",
    "version": 3
   },
   "file_extension": ".py",
   "mimetype": "text/x-python",
   "name": "python",
   "nbconvert_exporter": "python",
   "pygments_lexer": "ipython3",
   "version": "3.8.0"
  }
 },
 "nbformat": 4,
 "nbformat_minor": 2
}
