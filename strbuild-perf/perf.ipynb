{
 "cells": [
  {
   "cell_type": "markdown",
   "metadata": {},
   "source": [
    "# Performance analysis of string building with Python"
   ]
  },
  {
   "cell_type": "code",
   "execution_count": 18,
   "metadata": {},
   "outputs": [],
   "source": [
    "import random\n",
    "import statistics\n",
    "import string\n",
    "from timeit import default_timer as timer\n",
    "\n",
    "import pandas as pd\n",
    "import matplotlib.pyplot as plt\n",
    "import numpy as np\n",
    "from scipy.interpolate import interp1d"
   ]
  },
  {
   "cell_type": "markdown",
   "metadata": {},
   "source": [
    "#### Custom CSS"
   ]
  },
  {
   "cell_type": "code",
   "execution_count": 19,
   "metadata": {},
   "outputs": [
    {
     "data": {
      "text/html": [
       "<style>/* title of columns */\n",
       "table.dataframe thead th {\n",
       "    font-size: 1.2em !important;\n",
       "    padding-top: 0.2em !important;\n",
       "    padding-bottom: 0.2em !important;\n",
       "}\n",
       "\n",
       "/* title of rows */\n",
       "table.dataframe tbody th {\n",
       "    font-size: 1.2em !important;\n",
       "    background: rgba(199, 199, 199, 0.356) !important;\n",
       "    border: 1px solid black !important;\n",
       "}\n",
       "\n",
       "/* style for each cell */\n",
       "table.dataframe td {\n",
       "    font-size: 1.15em !important;\n",
       "    border: 1px solid black !important;\n",
       "}\n",
       "\n",
       "/* disable zebra-style */\n",
       "table.dataframe tbody tr {\n",
       "    background: white !important;\n",
       "}\n",
       "\n",
       "/* row color on hover */\n",
       "table.dataframe tbody tr:hover {\n",
       "    background: rgba(43, 137, 226, 0.144) !important;\n",
       "}\n",
       "\n",
       "/* Settings for slides */\n",
       "\n",
       ".present table.dataframe thead th {\n",
       "    font-size: 1.5em !important;\n",
       "}\n",
       "\n",
       ".present table.dataframe tbody th {\n",
       "    font-size: 1.5em !important;\n",
       "}\n",
       "\n",
       ".present table.dataframe td {\n",
       "    font-size: 1.3em !important;\n",
       "}\n",
       "\n",
       ".present table.dataframe thead th {\n",
       "    border-bottom: none !important;\n",
       "    padding-top: 0.1em !important;\n",
       "    padding-bottom: 0.1em !important;\n",
       "}\n",
       "</style>"
      ],
      "text/plain": [
       "<IPython.core.display.HTML object>"
      ]
     },
     "execution_count": 19,
     "metadata": {},
     "output_type": "execute_result"
    }
   ],
   "source": [
    "from IPython.display import HTML\n",
    "from pathlib import Path\n",
    "\n",
    "# load custom CSS for old-fashioned dataframe style\n",
    "css_rules = Path('custom.css').read_text()\n",
    "HTML('<style>' + css_rules + '</style>')"
   ]
  },
  {
   "cell_type": "markdown",
   "metadata": {},
   "source": [
    "## Settings"
   ]
  },
  {
   "cell_type": "code",
   "execution_count": 20,
   "metadata": {},
   "outputs": [],
   "source": [
    "NUM_EXEC_LOOPS = 1000\n",
    "MAX_STRING_SIZE = 100\n",
    "STRING_SIZE_STEP = 10\n",
    "MICROSECONDS = 1e6\n",
    "\n",
    "STR_EXPRESSIONS = {\n",
    "    'f-string': \"f'{s} {t}'\",\n",
    "    'concat': \"s + ' ' + t\",\n",
    "    'join': \"''.join((s, t))\",\n",
    "    'modulus': \"'%s %s' % (s, t)\",\n",
    "    'format': \"'{} {}'.format(s, t)\",\n",
    "    'template': \"string.Template('$s $t').substitute(s=s, t=t)\",\n",
    "}"
   ]
  },
  {
   "cell_type": "code",
   "execution_count": 21,
   "metadata": {},
   "outputs": [],
   "source": [
    "def build_random_string(size):\n",
    "    ''' Return a string with <size> randomized chars taken from ASCII letters'''\n",
    "    return ''.join([random.choice(string.ascii_letters) for _ in range(size)])"
   ]
  },
  {
   "cell_type": "markdown",
   "metadata": {},
   "source": [
    "## Data generation"
   ]
  },
  {
   "cell_type": "code",
   "execution_count": 22,
   "metadata": {},
   "outputs": [
    {
     "data": {
      "text/html": [
       "<div>\n",
       "<style scoped>\n",
       "    .dataframe tbody tr th:only-of-type {\n",
       "        vertical-align: middle;\n",
       "    }\n",
       "\n",
       "    .dataframe tbody tr th {\n",
       "        vertical-align: top;\n",
       "    }\n",
       "\n",
       "    .dataframe thead th {\n",
       "        text-align: right;\n",
       "    }\n",
       "</style>\n",
       "<table border=\"1\" class=\"dataframe\">\n",
       "  <thead>\n",
       "    <tr style=\"text-align: right;\">\n",
       "      <th></th>\n",
       "      <th>f-string</th>\n",
       "      <th>concat</th>\n",
       "      <th>join</th>\n",
       "      <th>modulus</th>\n",
       "      <th>format</th>\n",
       "      <th>template</th>\n",
       "    </tr>\n",
       "    <tr>\n",
       "      <th>str_size</th>\n",
       "      <th></th>\n",
       "      <th></th>\n",
       "      <th></th>\n",
       "      <th></th>\n",
       "      <th></th>\n",
       "      <th></th>\n",
       "    </tr>\n",
       "  </thead>\n",
       "  <tbody>\n",
       "    <tr>\n",
       "      <th>0</th>\n",
       "      <td>21.052066</td>\n",
       "      <td>9.470364</td>\n",
       "      <td>13.311322</td>\n",
       "      <td>11.927863</td>\n",
       "      <td>14.168674</td>\n",
       "      <td>24.514946</td>\n",
       "    </tr>\n",
       "    <tr>\n",
       "      <th>10</th>\n",
       "      <td>16.282330</td>\n",
       "      <td>9.083521</td>\n",
       "      <td>13.137861</td>\n",
       "      <td>11.319125</td>\n",
       "      <td>12.386695</td>\n",
       "      <td>23.206132</td>\n",
       "    </tr>\n",
       "    <tr>\n",
       "      <th>20</th>\n",
       "      <td>16.599191</td>\n",
       "      <td>9.464531</td>\n",
       "      <td>13.023705</td>\n",
       "      <td>11.708653</td>\n",
       "      <td>12.415728</td>\n",
       "      <td>23.422896</td>\n",
       "    </tr>\n",
       "    <tr>\n",
       "      <th>30</th>\n",
       "      <td>16.469732</td>\n",
       "      <td>9.323859</td>\n",
       "      <td>13.094708</td>\n",
       "      <td>11.719946</td>\n",
       "      <td>12.305900</td>\n",
       "      <td>23.051135</td>\n",
       "    </tr>\n",
       "    <tr>\n",
       "      <th>40</th>\n",
       "      <td>16.585795</td>\n",
       "      <td>9.221082</td>\n",
       "      <td>13.166412</td>\n",
       "      <td>11.662490</td>\n",
       "      <td>12.500139</td>\n",
       "      <td>23.405788</td>\n",
       "    </tr>\n",
       "  </tbody>\n",
       "</table>\n",
       "</div>"
      ],
      "text/plain": [
       "           f-string    concat       join    modulus     format   template\n",
       "str_size                                                                 \n",
       "0         21.052066  9.470364  13.311322  11.927863  14.168674  24.514946\n",
       "10        16.282330  9.083521  13.137861  11.319125  12.386695  23.206132\n",
       "20        16.599191  9.464531  13.023705  11.708653  12.415728  23.422896\n",
       "30        16.469732  9.323859  13.094708  11.719946  12.305900  23.051135\n",
       "40        16.585795  9.221082  13.166412  11.662490  12.500139  23.405788"
      ]
     },
     "execution_count": 22,
     "metadata": {},
     "output_type": "execute_result"
    }
   ],
   "source": [
    "columns = ['str_size'] + list(STR_EXPRESSIONS.keys())\n",
    "data = []\n",
    "for size in range(0, MAX_STRING_SIZE + 1, STRING_SIZE_STEP):\n",
    "    s = build_random_string(size)\n",
    "    t = build_random_string(size)\n",
    "\n",
    "    results = []\n",
    "    for label, expr in STR_EXPRESSIONS.items():\n",
    "        execution_times = []\n",
    "        for _ in range(NUM_EXEC_LOOPS):\n",
    "            start = timer()\n",
    "            r = eval(expr)\n",
    "            end = timer()\n",
    "            execution_times.append(end - start)\n",
    "        # compute mean to \"smooth\" some outliers\n",
    "        mean_execution_time = statistics.mean(execution_times) * MICROSECONDS\n",
    "        results.append(mean_execution_time)\n",
    "    data.append([size] + results)\n",
    "\n",
    "df = pd.DataFrame(data, columns=columns)\n",
    "df = df.set_index('str_size')\n",
    "df.head()"
   ]
  },
  {
   "cell_type": "markdown",
   "metadata": {},
   "source": [
    "## \"Smooth\" data with cubic interpolation"
   ]
  },
  {
   "cell_type": "code",
   "execution_count": 23,
   "metadata": {},
   "outputs": [],
   "source": [
    "new_index = np.arange(0, df.index.max() + 1)\n",
    "df_cubic = pd.DataFrame(index=new_index)\n",
    "for column in df.columns:\n",
    "    f = interp1d(df.index, df[column], kind='cubic')\n",
    "    df_cubic[column] = f(df_cubic.index)"
   ]
  },
  {
   "cell_type": "markdown",
   "metadata": {},
   "source": [
    "## Plot data"
   ]
  },
  {
   "cell_type": "code",
   "execution_count": 24,
   "metadata": {},
   "outputs": [
    {
     "data": {
      "image/png": "[encoded data removed]",
      "text/plain": [
       "<Figure size 864x504 with 1 Axes>"
      ]
     },
     "metadata": {
      "needs_background": "light"
     },
     "output_type": "display_data"
    }
   ],
   "source": [
    "ax = df_cubic.plot(\n",
    "    figsize=(12, 7),\n",
    "    grid=True,\n",
    "    xticks=df.index,\n",
    "    title='Performance analysis of string building with Python'\n",
    ")\n",
    "ax.set_xlabel('string size (chars)')\n",
    "ax.set_ylabel('execution time ($\\mu$s)');"
   ]
  }
 ],
 "metadata": {
  "kernelspec": {
   "display_name": "Python 3",
   "language": "python",
   "name": "python3"
  },
  "language_info": {
   "codemirror_mode": {
    "name": "ipython",
    "version": 3
   },
   "file_extension": ".py",
   "mimetype": "text/x-python",
   "name": "python",
   "nbconvert_exporter": "python",
   "pygments_lexer": "ipython3",
   "version": "3.8.0"
  }
 },
 "nbformat": 4,
 "nbformat_minor": 2
}
